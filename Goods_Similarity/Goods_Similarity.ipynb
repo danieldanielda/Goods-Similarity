{
 "cells": [
  {
   "cell_type": "markdown",
   "metadata": {},
   "source": [
    "Импорт необходимых библиотек"
   ]
  },
  {
   "cell_type": "code",
   "execution_count": 113,
   "metadata": {},
   "outputs": [],
   "source": [
    "import numpy as np       \n",
    "import pandas as pd               \n",
    "import string            \n",
    "import re                \n",
    "from sklearn.feature_extraction.text import TfidfVectorizer                 \n",
    "import gensim                                        \n",
    "import gensim.downloader\n",
    "from gensim.models import word2vec, KeyedVectors"
   ]
  },
  {
   "cell_type": "code",
   "execution_count": 114,
   "metadata": {},
   "outputs": [
    {
     "data": {
      "text/plain": [
       "'cpu'"
      ]
     },
     "execution_count": 114,
     "metadata": {},
     "output_type": "execute_result"
    }
   ],
   "source": [
    "from torch import cuda\n",
    "device = 'cuda' if cuda.is_available() else 'cpu'\n",
    "device"
   ]
  },
  {
   "cell_type": "code",
   "execution_count": 80,
   "metadata": {},
   "outputs": [
    {
     "name": "stdout",
     "output_type": "stream",
     "text": [
      "[==================================================] 100.0% 376.1/376.1MB downloaded\n"
     ]
    }
   ],
   "source": [
    "glove_vectors = gensim.downloader.load('glove-wiki-gigaword-300')"
   ]
  },
  {
   "cell_type": "code",
   "execution_count": 115,
   "metadata": {},
   "outputs": [
    {
     "data": {
      "text/html": [
       "<div>\n",
       "<style scoped>\n",
       "    .dataframe tbody tr th:only-of-type {\n",
       "        vertical-align: middle;\n",
       "    }\n",
       "\n",
       "    .dataframe tbody tr th {\n",
       "        vertical-align: top;\n",
       "    }\n",
       "\n",
       "    .dataframe thead th {\n",
       "        text-align: right;\n",
       "    }\n",
       "</style>\n",
       "<table border=\"1\" class=\"dataframe\">\n",
       "  <thead>\n",
       "    <tr style=\"text-align: right;\">\n",
       "      <th></th>\n",
       "      <th>id</th>\n",
       "      <th>description</th>\n",
       "    </tr>\n",
       "  </thead>\n",
       "  <tbody>\n",
       "    <tr>\n",
       "      <th>0</th>\n",
       "      <td>1</td>\n",
       "      <td>Active classic boxers - There's a reason why o...</td>\n",
       "    </tr>\n",
       "    <tr>\n",
       "      <th>1</th>\n",
       "      <td>2</td>\n",
       "      <td>Active sport boxer briefs - Skinning up Glory ...</td>\n",
       "    </tr>\n",
       "    <tr>\n",
       "      <th>2</th>\n",
       "      <td>3</td>\n",
       "      <td>Active sport briefs - These superbreathable no...</td>\n",
       "    </tr>\n",
       "    <tr>\n",
       "      <th>3</th>\n",
       "      <td>4</td>\n",
       "      <td>Alpine guide pants - Skin in, climb ice, switc...</td>\n",
       "    </tr>\n",
       "    <tr>\n",
       "      <th>4</th>\n",
       "      <td>5</td>\n",
       "      <td>Alpine wind jkt - On high ridges, steep ice an...</td>\n",
       "    </tr>\n",
       "  </tbody>\n",
       "</table>\n",
       "</div>"
      ],
      "text/plain": [
       "   id                                        description\n",
       "0   1  Active classic boxers - There's a reason why o...\n",
       "1   2  Active sport boxer briefs - Skinning up Glory ...\n",
       "2   3  Active sport briefs - These superbreathable no...\n",
       "3   4  Alpine guide pants - Skin in, climb ice, switc...\n",
       "4   5  Alpine wind jkt - On high ridges, steep ice an..."
      ]
     },
     "execution_count": 115,
     "metadata": {},
     "output_type": "execute_result"
    }
   ],
   "source": [
    "goods = pd.read_csv('sample-data.csv')\n",
    "goods.head()"
   ]
  },
  {
   "cell_type": "markdown",
   "metadata": {},
   "source": [
    "Предобработка данных"
   ]
  },
  {
   "cell_type": "code",
   "execution_count": 116,
   "metadata": {},
   "outputs": [],
   "source": [
    "class ClearText(object):\n",
    "    \n",
    "    def __init__(self,pandas_series, symbols_to_delete : list, stop_words : list) -> None:\n",
    "        \n",
    "        self.pandas_series = pandas_series\n",
    "        self.symbols_to_delete = symbols_to_delete\n",
    "        self.stop_words = stop_words\n",
    "        self.string_symbols = string.digits       \n",
    "        \n",
    "    # удаляем пунктуацию и символы\n",
    "    def __remove_chars_from_text(self, text):\n",
    "        return \"\".join([ch for ch in text if ch not in self.symbols_to_delete])\n",
    "\n",
    "    def __remove_string_symbols(self, text):\n",
    "         return \"\".join([ch for ch in text if ch not in self.string_symbols])\n",
    "\n",
    "    # Удаляем все стоп слова из текста продукта\n",
    "    def __clear_stop_words(self, text):\n",
    "        return ' '.join([word for word in str(text).split() if word not in self.stop_words])\n",
    "\n",
    "\n",
    "    # Удаляем  HTML-ссылки\n",
    "    def __remove_urls(self, text):\n",
    "        url_remove = re.compile(r'https?://\\S+|www\\.\\S+')\n",
    "        return url_remove.sub(r' ', text)\n",
    "    \n",
    "    # Удаляем URL-ссылки\n",
    "    def __remove_html(self, text):\n",
    "        html=re.compile(r'<.*?>')\n",
    "        return html.sub(r' ',text)\n",
    "    \n",
    "    def get_clear_text(self):\n",
    "        # Удаляем URL-ссылки\n",
    "        self.pandas_series = self.pandas_series.apply(lambda x: self.__remove_urls(x))\n",
    "\n",
    "        # Удаляем HTML-ссылки\n",
    "        self.pandas_series = self.pandas_series.apply(lambda x: self.__remove_html(x))\n",
    "\n",
    "        # нижний регистр\n",
    "        self.pandas_series = self.pandas_series.apply(lambda x: x.lower())\n",
    "\n",
    "        # Удаляем пунктуацию и спец-символы\n",
    "        self.pandas_series = self.pandas_series.apply(lambda x: self.__remove_chars_from_text(x))\n",
    "\n",
    "        # Удаляем цифры\n",
    "        self.pandas_series = self.pandas_series.apply(lambda x: self.__remove_string_symbols(x))\n",
    "\n",
    "        # Убираем лишние пробелы\n",
    "        self.pandas_series = self.pandas_series.apply(lambda x: ' '.join(x.split()))\n",
    "        \n",
    "        # Убираем стоп-слова\n",
    "        self.pandas_series = self.pandas_series.apply(lambda x: self.__clear_stop_words(x))\n",
    "        \n",
    "        return self.pandas_series\n",
    "        \n"
   ]
  },
  {
   "cell_type": "markdown",
   "metadata": {},
   "source": [
    "Перед тем как очищать текст, взглянем на пропущенные значения в dataset"
   ]
  },
  {
   "cell_type": "code",
   "execution_count": 117,
   "metadata": {},
   "outputs": [
    {
     "data": {
      "text/plain": [
       "<Axes: >"
      ]
     },
     "execution_count": 117,
     "metadata": {},
     "output_type": "execute_result"
    },
    {
     "data": {
      "image/png": "[encoded data removed]",
      "text/plain": [
       "<Figure size 2000x1000 with 2 Axes>"
      ]
     },
     "metadata": {},
     "output_type": "display_data"
    }
   ],
   "source": [
    "import missingno\n",
    "\n",
    "missingno.matrix(goods, figsize=(20,10))"
   ]
  },
  {
   "cell_type": "markdown",
   "metadata": {},
   "source": [
    "Пропущенных значений нет, значит мы можем приступать к очистке текста"
   ]
  },
  {
   "cell_type": "code",
   "execution_count": 118,
   "metadata": {},
   "outputs": [
    {
     "name": "stderr",
     "output_type": "stream",
     "text": [
      "[nltk_data] Downloading package stopwords to\n",
      "[nltk_data]     C:\\Users\\Polina\\AppData\\Roaming\\nltk_data...\n",
      "[nltk_data]   Package stopwords is already up-to-date!\n"
     ]
    }
   ],
   "source": [
    "import nltk\n",
    "from nltk.corpus import stopwords  \n",
    "nltk.download('stopwords')\n",
    "\n",
    "stopwords_english = stopwords.words('english')\n",
    "stopwords_english.extend(['g', 'oz'])"
   ]
  },
  {
   "cell_type": "code",
   "execution_count": 119,
   "metadata": {},
   "outputs": [
    {
     "data": {
      "text/html": [
       "<div>\n",
       "<style scoped>\n",
       "    .dataframe tbody tr th:only-of-type {\n",
       "        vertical-align: middle;\n",
       "    }\n",
       "\n",
       "    .dataframe tbody tr th {\n",
       "        vertical-align: top;\n",
       "    }\n",
       "\n",
       "    .dataframe thead th {\n",
       "        text-align: right;\n",
       "    }\n",
       "</style>\n",
       "<table border=\"1\" class=\"dataframe\">\n",
       "  <thead>\n",
       "    <tr style=\"text-align: right;\">\n",
       "      <th></th>\n",
       "      <th>id</th>\n",
       "      <th>description</th>\n",
       "    </tr>\n",
       "  </thead>\n",
       "  <tbody>\n",
       "    <tr>\n",
       "      <th>0</th>\n",
       "      <td>1</td>\n",
       "      <td>active classic boxers theres reason boxers cul...</td>\n",
       "    </tr>\n",
       "    <tr>\n",
       "      <th>1</th>\n",
       "      <td>2</td>\n",
       "      <td>active sport boxer briefs skinning glory requi...</td>\n",
       "    </tr>\n",
       "    <tr>\n",
       "      <th>2</th>\n",
       "      <td>3</td>\n",
       "      <td>active sport briefs superbreathable nofly brie...</td>\n",
       "    </tr>\n",
       "    <tr>\n",
       "      <th>3</th>\n",
       "      <td>4</td>\n",
       "      <td>alpine guide pants skin climb ice switch rock ...</td>\n",
       "    </tr>\n",
       "    <tr>\n",
       "      <th>4</th>\n",
       "      <td>5</td>\n",
       "      <td>alpine wind jkt high ridges steep ice anything...</td>\n",
       "    </tr>\n",
       "  </tbody>\n",
       "</table>\n",
       "</div>"
      ],
      "text/plain": [
       "   id                                        description\n",
       "0   1  active classic boxers theres reason boxers cul...\n",
       "1   2  active sport boxer briefs skinning glory requi...\n",
       "2   3  active sport briefs superbreathable nofly brie...\n",
       "3   4  alpine guide pants skin climb ice switch rock ...\n",
       "4   5  alpine wind jkt high ridges steep ice anything..."
      ]
     },
     "execution_count": 119,
     "metadata": {},
     "output_type": "execute_result"
    }
   ],
   "source": [
    "# создадим экземпляр класса\n",
    "description = ClearText(goods['description'], string.punctuation, stopwords_english)\n",
    "\n",
    "goods['description'] = description.get_clear_text()\n",
    "goods.head()"
   ]
  },
  {
   "cell_type": "markdown",
   "metadata": {},
   "source": [
    "Мы получили очищенный dataset"
   ]
  },
  {
   "cell_type": "markdown",
   "metadata": {},
   "source": [
    "Используем TFIDF"
   ]
  },
  {
   "cell_type": "code",
   "execution_count": 120,
   "metadata": {},
   "outputs": [],
   "source": [
    "from sklearn.metrics.pairwise import linear_kernel \n",
    "\n",
    "tfidf_vectorizer = TfidfVectorizer(binary=True, max_features=25000)\n",
    "\n",
    "# Преобразуем массив очищенных текстов в матрицы TFIDF\n",
    "tfidf_embedings = tfidf_vectorizer.fit_transform(goods['description'])\n",
    "\n",
    "\n",
    "# Здесь linear kernel эквивалентно cosine_similarity  \n",
    "cosine_similarities_tfidf = linear_kernel(tfidf_embedings, tfidf_embedings)"
   ]
  },
  {
   "cell_type": "code",
   "execution_count": 121,
   "metadata": {},
   "outputs": [],
   "source": [
    "# Создадим функция для поиска id похожих товаров\n",
    "def get_id_of_sim_goods(sim_matrix, item_id, num):\n",
    "\n",
    "    index = goods.index[goods['id'] == item_id].tolist()[0] # Определяем индекс товара в матрице расстояний\n",
    "    return sim_matrix[index].argsort()[:-(num+2):-1]"
   ]
  },
  {
   "cell_type": "code",
   "execution_count": 122,
   "metadata": {},
   "outputs": [],
   "source": [
    "# Создаем csv файл, в котором для каждого id товара сформирован список из трех наиболее похожих на него товаров\n",
    "\n",
    "def create_csv_sub(cosine_sim, name_of_file):\n",
    "\n",
    "    sim_goods = pd.DataFrame()\n",
    "    # ищем id 3 товаров похожих на товар текущего id\n",
    "    for item in range(1, len(goods['description'])):\n",
    "        \n",
    "        item_similary_list = get_id_of_sim_goods(cosine_sim,item, 3).tolist()\n",
    "        sim_goods = pd.concat([sim_goods, pd.DataFrame({'id': item_similary_list[0]+1, 'id_sim_goods': [item_similary_list[1:]]} ) ],ignore_index=True)\n",
    "\n",
    "    sim_goods['id_sim_goods'] = sim_goods['id_sim_goods'].apply(lambda x : ','.join(str(item+1) for item in x))\n",
    "    sim_goods.to_csv(name_of_file, index=False)"
   ]
  },
  {
   "cell_type": "code",
   "execution_count": 123,
   "metadata": {},
   "outputs": [],
   "source": [
    "# output file tf-idf\n",
    "create_csv_sub(cosine_similarities_tfidf, 'output_tf-idf.csv')"
   ]
  },
  {
   "cell_type": "markdown",
   "metadata": {},
   "source": [
    "Используем WordToVec"
   ]
  },
  {
   "cell_type": "code",
   "execution_count": 125,
   "metadata": {},
   "outputs": [
    {
     "name": "stderr",
     "output_type": "stream",
     "text": [
      "[nltk_data] Downloading package stopwords to\n",
      "[nltk_data]     C:\\Users\\Polina\\AppData\\Roaming\\nltk_data...\n",
      "[nltk_data]   Package stopwords is already up-to-date!\n"
     ]
    }
   ],
   "source": [
    "import gensim.downloader\n",
    "from nltk.tokenize import RegexpTokenizer\n",
    "import nltk\n",
    "nltk.download('stopwords')\n",
    "from nltk.corpus import stopwords\n",
    "import re"
   ]
  },
  {
   "cell_type": "code",
   "execution_count": 126,
   "metadata": {},
   "outputs": [],
   "source": [
    "# создаем матрицу векторов с помощью word2vec\n",
    "def create_embed_matrix(texts):\n",
    "    \n",
    "    embed_matrix = np.zeros((len(texts), glove_vectors.vector_size))\n",
    "    for ind, text in enumerate(texts):\n",
    "        mean_word2vec = np.zeros(glove_vectors.vector_size)\n",
    "        num_words = 0\n",
    "\n",
    "        for word in text:\n",
    "            if word in glove_vectors.index_to_key:\n",
    "                mean_word2vec += glove_vectors[word]\n",
    "                num_words += 1\n",
    "        embed_matrix[ind] = mean_word2vec/num_words\n",
    "\n",
    "        embed_matrix[ind] = embed_matrix[ind]/np.sqrt(np.sum(embed_matrix[ind]**2)) \n",
    "    return embed_matrix"
   ]
  },
  {
   "cell_type": "code",
   "execution_count": 127,
   "metadata": {},
   "outputs": [],
   "source": [
    "mean_word2vec_matrix = create_embed_matrix(goods['description'].values)"
   ]
  },
  {
   "cell_type": "code",
   "execution_count": 128,
   "metadata": {},
   "outputs": [],
   "source": [
    "cosine_similarities_word2vec = linear_kernel(mean_word2vec_matrix, mean_word2vec_matrix)"
   ]
  },
  {
   "cell_type": "code",
   "execution_count": 129,
   "metadata": {},
   "outputs": [],
   "source": [
    "# output file word2vec\n",
    "create_csv_sub(cosine_similarities_word2vec, 'output_word2vec.csv')"
   ]
  },
  {
   "cell_type": "code",
   "execution_count": null,
   "metadata": {},
   "outputs": [],
   "source": []
  }
 ],
 "metadata": {
  "kernelspec": {
   "display_name": "Python 3",
   "language": "python",
   "name": "python3"
  },
  "language_info": {
   "codemirror_mode": {
    "name": "ipython",
    "version": 3
   },
   "file_extension": ".py",
   "mimetype": "text/x-python",
   "name": "python",
   "nbconvert_exporter": "python",
   "pygments_lexer": "ipython3",
   "version": "3.11.1"
  },
  "orig_nbformat": 4
 },
 "nbformat": 4,
 "nbformat_minor": 2
}
